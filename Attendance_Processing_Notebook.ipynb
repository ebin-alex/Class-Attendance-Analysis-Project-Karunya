{
 "cells": [
  {
   "cell_type": "code",
   "execution_count": null,
   "id": "3a827f3b",
   "metadata": {},
   "outputs": [],
   "source": [
    "\n",
    "import pandas as pd\n"
   ]
  },
  {
   "cell_type": "code",
   "execution_count": null,
   "id": "de8be7de",
   "metadata": {},
   "outputs": [],
   "source": [
    "\n",
    "# Load the attendance data\n",
    "attendance_path = 'attendance.xlsx' # Update with your file path\n",
    "attendance_data = pd.read_excel(attendance_path)\n",
    "\n",
    "# Display the first few rows to understand the data structure\n",
    "attendance_data.head()\n"
   ]
  },
  {
   "cell_type": "code",
   "execution_count": null,
   "id": "6c475f45",
   "metadata": {},
   "outputs": [],
   "source": [
    "\n",
    "# Find all instances of 'A' in the attendance data\n",
    "absence_records = pd.melt(attendance_data, id_vars=['DATE'], var_name='HOUR', value_name='STATUS')\n",
    "absent_days = absence_records[absence_records['STATUS'] == 'A']\n",
    "\n",
    "# Displaying the first few rows of absent days to verify the data\n",
    "absent_days.head()\n"
   ]
  },
  {
   "cell_type": "code",
   "execution_count": null,
   "id": "7c4bf9d6",
   "metadata": {},
   "outputs": [],
   "source": [
    "\n",
    "# Add a new column to the absent_days dataframe with the day of the week for each date\n",
    "absent_days['DAY_OF_WEEK'] = absent_days['DATE'].dt.day_name()\n",
    "\n",
    "# Now we have the dates, hours, and day of the week for each absence\n",
    "absent_days.head()\n"
   ]
  },
  {
   "cell_type": "code",
   "execution_count": null,
   "id": "fad4b23b",
   "metadata": {},
   "outputs": [],
   "source": [
    "\n",
    "# Load the class hour data\n",
    "class_hour_path = 'class hour.xlsx' # Update with your file path\n",
    "class_hour_data = pd.read_excel(class_hour_path)\n",
    "\n",
    "# Check the first few rows to understand the data structure\n",
    "class_hour_data.head()\n"
   ]
  },
  {
   "cell_type": "code",
   "execution_count": null,
   "id": "19ae3ee6",
   "metadata": {},
   "outputs": [],
   "source": [
    "\n",
    "# Create a day mapping dictionary\n",
    "day_mapping = {\n",
    "    'Monday': 'MON', 'Tuesday': 'TUE', 'Wednesday': 'WED', 'Thursday': 'THU',\n",
    "    'Friday': 'FRI', 'Saturday': 'SAT', 'Sunday': 'SUN'\n",
    "}\n",
    "\n",
    "# Update the DAY_OF_WEEK in absent_days to use the three-letter abbreviation\n",
    "absent_days['DAY_ABBR'] = absent_days['DAY_OF_WEEK'].apply(lambda x: day_mapping.get(x, 'Not Found'))\n",
    "\n",
    "# Transform class hour data to merge\n",
    "class_hour_data_melted = class_hour_data.melt(id_vars=['DAY'], var_name='HOUR_LABEL', value_name='SUBJECT')\n",
    "\n",
    "# Merge absent days with subjects based on day abbreviation and hour label\n",
    "absent_days_with_subject = pd.merge(\n",
    "    absent_days,\n",
    "    class_hour_data_melted,\n",
    "    left_on=['DAY_ABBR', 'HOUR'],\n",
    "    right_on=['DAY', 'HOUR_LABEL'],\n",
    "    how='left'\n",
    ")\n",
    "\n",
    "# Select only relevant columns for the output\n",
    "absent_subject_details = absent_days_with_subject[['DATE', 'DAY_OF_WEEK', 'HOUR', 'SUBJECT']]\n",
    "\n",
    "absent_subject_details.head()\n"
   ]
  },
  {
   "cell_type": "code",
   "execution_count": null,
   "id": "321bbc10",
   "metadata": {},
   "outputs": [],
   "source": [
    "\n",
    "# Save the absent subject details to an excel file\n",
    "output_path = 'absent_subject_details.xlsx' # Update with your file path\n",
    "absent_subject_details.to_excel(output_path, index=False)\n"
   ]
  }
 ],
 "metadata": {
  "language_info": {
   "name": "python"
  }
 },
 "nbformat": 4,
 "nbformat_minor": 5
}
